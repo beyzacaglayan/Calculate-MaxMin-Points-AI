{
 "cells": [
  {
   "cell_type": "code",
   "execution_count": 22,
   "id": "951c9338",
   "metadata": {},
   "outputs": [],
   "source": [
    "import numpy as np\n",
    "import random as rnd \n",
    "import random\n",
    "import math\n",
    "import matplotlib.pyplot as plt"
   ]
  },
  {
   "cell_type": "code",
   "execution_count": 23,
   "id": "3e4a5d81",
   "metadata": {},
   "outputs": [],
   "source": [
    "iterasyon=10\n",
    "xMax=10\n",
    "xMin=10\n",
    "pop_size=9"
   ]
  },
  {
   "cell_type": "code",
   "execution_count": 24,
   "id": "b369a7fe",
   "metadata": {},
   "outputs": [],
   "source": [
    "def fun(x):\n",
    "    return float(math.sin(x)+math.sin((3.33333)*x)"
   ]
  },
  {
   "cell_type": "code",
   "execution_count": null,
   "id": "7c6de3d9",
   "metadata": {},
   "outputs": [],
   "source": [
    "def fitness(x):\n",
    "    f = []\n",
    "    for a in range(0, len(x)):\n",
    "        f.append(fun(x[a]))\n",
    "    \n",
    "    return f"
   ]
  },
  {
   "cell_type": "code",
   "execution_count": null,
   "id": "b29dfbb6",
   "metadata": {},
   "outputs": [],
   "source": [
    "def velocity_min_first(i):\n",
    "    temp = []\n",
    "    velocity =  []\n",
    "    for a in range(-10, 10):\n",
    "        velocity.append(0) \n",
    "    \n",
    "    return temp\n",
    "\n",
    "def velocity_max_first(i):\n",
    "    velocity = []\n",
    "    temp = []\n",
    "    for a in range(0, 10):\n",
    "            temp.append(0)\n",
    "\n",
    "    return temp\n",
    "\n",
    "def velocity_min(x, v, p, g, i):\n",
    "    velocity = []\n",
    "    temp = []\n",
    "    r1 = format(rnd.random(), '.3f')\n",
    "    r2 = format(rnd.random(), '.3f')\n",
    "    w = 1\n",
    "    c1 = 1\n",
    "    c2 = 1\n",
    "    if i == 0:\n",
    "        for a in range(0, len(x)):\n",
    "            velocity.append(0) \n",
    "    else:\n",
    "        for a in range(0, len(x)):\n",
    "            temp.append(w * v[a-1] + c1 * r1 * (p[a-1] - x[a - 1]) + c2 * r2 * (g[a-1] - x[a - 1]))\n",
    "    velocity.append(temp)\n",
    "    return velocity\n",
    "\n",
    "def velocity_max(x, v, p, g, i):\n",
    "    velocity = []\n",
    "    temp = []\n",
    "    r1 = format(rnd.random(), '.3f')\n",
    "    r2 = format(rnd.random(), '.3f')\n",
    "    w = 1\n",
    "    c1 = 1\n",
    "    c2 = 1\n",
    "    if i == 0:\n",
    "        for a in range(0, len(x)):\n",
    "            temp.append(0)\n",
    "    else:\n",
    "        for a in range(0, len(x)):\n",
    "            temp.append(w * v[a-1] + c1 * r1 * (p[a-1] - x[a - 1]) + c2 * r2 * (g[a-1] - x[a - 1]))\n",
    "\n",
    "    return temp\n"
   ]
  },
  {
   "cell_type": "code",
   "execution_count": null,
   "id": "71c43371",
   "metadata": {},
   "outputs": [],
   "source": [
    "def p_best_min(x, f, i):\n",
    "    p_best = []\n",
    "    if i == 0:\n",
    "        for a in range(0, len(x)):\n",
    "            p_best.append(x[a])\n",
    "    else:\n",
    "        for a in range(0, len(x)):\n",
    "            if f[i][a] < f[i-1][a]:\n",
    "                p_best.append(x[a])\n",
    "            else:\n",
    "                p_best.append(x[a-1])\n",
    "    return p_best \n",
    "\n",
    "def p_best_max(x, f, i):\n",
    "    p_best = []\n",
    "    if i == 0:\n",
    "        for a in range(0, len(x)):\n",
    "            p_best.append(x[a])\n",
    "    else:\n",
    "        for a in range(0, len(x)):\n",
    "            if f[i][a] > f[i-1][a]:\n",
    "                p_best.append(x[a])\n",
    "            else:\n",
    "                p_best.append(x[a-1])\n",
    "    return p_best    "
   ]
  },
  {
   "cell_type": "code",
   "execution_count": null,
   "id": "10169cb8",
   "metadata": {},
   "outputs": [],
   "source": [
    "def g_best_min(x, f):\n",
    "    g_best = 0\n",
    "    for a in range(0, len(x)):\n",
    "        if g_best > f[a]:\n",
    "            g_best = f[a]\n",
    "    return g_best\n",
    "    \n",
    "    \n",
    "def g_best_max(x, f):\n",
    "    g_best = 0\n",
    "    for a in range(0, len(x)):\n",
    "        if g_best < f[a]:\n",
    "            g_best = f[a]\n",
    "    return g_best"
   ]
  },
  {
   "cell_type": "code",
   "execution_count": null,
   "id": "3fc62aed",
   "metadata": {},
   "outputs": [],
   "source": [
    "iterasyon = 10\n",
    "i = 0\n",
    "\n",
    "fitness_min_g = []\n",
    "fitness_max_g = []\n",
    "\n",
    "fitness_min = []\n",
    "fitness_max = []\n",
    "\n",
    "velocitymin = []\n",
    "velocitymax = []\n",
    "\n",
    "pbestmin = []\n",
    "pbestmax = []\n",
    "\n",
    "par_list_min = []\n",
    "par_list_max = []\n",
    "par_sayisi=9\n",
    "\n",
    "while i < iterasyon:\n",
    "    if i == 0:"
   ]
  },
  {
   "cell_type": "code",
   "execution_count": 2,
   "id": "36fd3756",
   "metadata": {},
   "outputs": [
    {
     "ename": "IndentationError",
     "evalue": "unindent does not match any outer indentation level (<tokenize>, line 22)",
     "output_type": "error",
     "traceback": [
      "\u001b[1;36m  File \u001b[1;32m\"<tokenize>\"\u001b[1;36m, line \u001b[1;32m22\u001b[0m\n\u001b[1;33m    else:\u001b[0m\n\u001b[1;37m    ^\u001b[0m\n\u001b[1;31mIndentationError\u001b[0m\u001b[1;31m:\u001b[0m unindent does not match any outer indentation level\n"
     ]
    }
   ],
   "source": [
    "velocitymin.append(velocity_min_first(i))\n",
    "        velocitymax.append(velocity_max_first(i))\n",
    "        part_tempmin = []\n",
    "        part_tempmax = []\n",
    "        for a in range(0, par_sayisi):\n",
    "            part_tempmin.append(format(rnd.random(), '.4f'))\n",
    "            part_tempmax.append(format(rnd.random(), '.4f'))\n",
    "\n",
    "        par_list_min.append(part_tempmin)\n",
    "        par_list_max.append(part_tempmax)\n",
    "\n",
    "        fitness_min_g.append(fitness(par_list_min[i]))\n",
    "        fitness_max_g.append(fitness(par_list_max[i]))\n",
    "\n",
    "        pbestmin.append(p_best_min(par_list_min[i], fitness_min_g[i] ,i))\n",
    "        pbestmax.append(p_best_max(par_list_max[i], fitness_max_g[i], i))\n",
    "\n",
    "        fitness_min.append(g_best_min(par_list_min[i], fitness_min_g[i]))\n",
    "        fitness_max.append(g_best_max(ar_list_max[i], fitness_max_g[i]))\n",
    "\n",
    "    \n",
    "    else:\n",
    "        for a in range(0, par_sayisi):\n",
    "\n",
    "            par_list_min.append(impParticle(par_list_min, i, velocitymin))\n",
    "            par_list_max.append(impParticle(par_list_min, i, velocitymax))\n",
    "        fitness_min_g.append(fitness(par_list_min[i]))\n",
    "        fitness_max_g.append(fitness(par_list_max[i]))\n",
    "\n",
    "        pbestmin.append(p_best_min(par_list_min[i], fitness_min_g[i] ,i))\n",
    "        pbestmax.append(p_best_max(par_list_max[i], fitness_max_g[i], i))\n",
    "\n",
    "        fitness_min.append(g_best_min(par_list_min[i], fitness_min_g[i]))\n",
    "        fitness_max.append(g_best_max(ar_list_max[i], fitness_max_g[i]))\n",
    "    \n",
    "    i = i + 1"
   ]
  },
  {
   "cell_type": "code",
   "execution_count": 3,
   "id": "7b79519c",
   "metadata": {},
   "outputs": [],
   "source": [
    "def probability(fitness_values):\n",
    "    P=[]\n",
    "    total=sum(fitness_values)\n",
    "    for f in fitness_values:\n",
    "        P.append(f/total)\n",
    "    return P"
   ]
  },
  {
   "cell_type": "code",
   "execution_count": 4,
   "id": "3a8b9d74",
   "metadata": {},
   "outputs": [
    {
     "ename": "NameError",
     "evalue": "name 'create_initial_population' is not defined",
     "output_type": "error",
     "traceback": [
      "\u001b[1;31m---------------------------------------------------------------------------\u001b[0m",
      "\u001b[1;31mNameError\u001b[0m                                 Traceback (most recent call last)",
      "\u001b[1;32m~\\AppData\\Local\\Temp\\ipykernel_8864\\3496104644.py\u001b[0m in \u001b[0;36m<module>\u001b[1;34m\u001b[0m\n\u001b[1;32m----> 1\u001b[1;33m \u001b[0mpopulation\u001b[0m\u001b[1;33m=\u001b[0m\u001b[0mcreate_initial_population\u001b[0m\u001b[1;33m\u001b[0m\u001b[1;33m\u001b[0m\u001b[0m\n\u001b[0m\u001b[0;32m      2\u001b[0m \u001b[1;33m\u001b[0m\u001b[0m\n\u001b[0;32m      3\u001b[0m \u001b[1;33m\u001b[0m\u001b[0m\n\u001b[0;32m      4\u001b[0m \u001b[0mfitness_values\u001b[0m\u001b[1;33m=\u001b[0m\u001b[1;33m[\u001b[0m\u001b[1;33m]\u001b[0m\u001b[1;33m\u001b[0m\u001b[1;33m\u001b[0m\u001b[0m\n\u001b[0;32m      5\u001b[0m \u001b[1;33m\u001b[0m\u001b[0m\n",
      "\u001b[1;31mNameError\u001b[0m: name 'create_initial_population' is not defined"
     ]
    }
   ],
   "source": [
    "population=create_initial_population\n",
    "    \n",
    "\n",
    "fitness_values=[]\n",
    "\n",
    "for c in population:\n",
    "    fitness_values.append(fitness(c))\n",
    "epok=0\n",
    "while epok<iterasyon:\n",
    "    P=probability(fitness_values)\n",
    "\n",
    "    C=np.cumsum(P)\n",
    "\n",
    "    rulet_parents=[]\n",
    "\n",
    "    for i in range(0,len(C)):\n",
    "        r=rnd.random()\n",
    "        print(\"Random:\",r)\n",
    "        for j in range(0,len(C)):\n",
    "            if C[j]>r:\n",
    "                rulet_parents.append(j)\n",
    "                break\n",
    "\n",
    "\n",
    "    for c, f,p in zip(population,fitness_values,P):\n",
    "        print(c, \" \",f,\" \",p)\n",
    "    print(C)\n",
    "\n",
    "    print(rulet_parents)"
   ]
  },
  {
   "cell_type": "code",
   "execution_count": 5,
   "id": "bb055b45",
   "metadata": {},
   "outputs": [
    {
     "ename": "NameError",
     "evalue": "name 'population' is not defined",
     "output_type": "error",
     "traceback": [
      "\u001b[1;31m---------------------------------------------------------------------------\u001b[0m",
      "\u001b[1;31mNameError\u001b[0m                                 Traceback (most recent call last)",
      "\u001b[1;32m~\\AppData\\Local\\Temp\\ipykernel_8864\\3034206245.py\u001b[0m in \u001b[0;36m<module>\u001b[1;34m\u001b[0m\n\u001b[0;32m      1\u001b[0m \u001b[0mfitness_values\u001b[0m\u001b[1;33m=\u001b[0m\u001b[1;33m[\u001b[0m\u001b[1;33m]\u001b[0m\u001b[1;33m\u001b[0m\u001b[1;33m\u001b[0m\u001b[0m\n\u001b[1;32m----> 2\u001b[1;33m \u001b[0mzip_list\u001b[0m\u001b[1;33m=\u001b[0m\u001b[0mzip\u001b[0m\u001b[1;33m(\u001b[0m\u001b[0mfitness_values\u001b[0m\u001b[1;33m,\u001b[0m\u001b[0mpopulation\u001b[0m\u001b[1;33m)\u001b[0m\u001b[1;33m\u001b[0m\u001b[1;33m\u001b[0m\u001b[0m\n\u001b[0m\u001b[0;32m      3\u001b[0m \u001b[0msort_list\u001b[0m\u001b[1;33m=\u001b[0m\u001b[0msorted\u001b[0m\u001b[1;33m(\u001b[0m\u001b[0mzip_list\u001b[0m\u001b[1;33m,\u001b[0m\u001b[0mreverse\u001b[0m\u001b[1;33m=\u001b[0m\u001b[1;32mTrue\u001b[0m\u001b[1;33m)\u001b[0m\u001b[1;33m\u001b[0m\u001b[1;33m\u001b[0m\u001b[0m\n\u001b[0;32m      4\u001b[0m \u001b[1;32mfor\u001b[0m \u001b[0mf\u001b[0m\u001b[1;33m,\u001b[0m\u001b[0mp\u001b[0m \u001b[1;32min\u001b[0m \u001b[0mlist\u001b[0m\u001b[1;33m(\u001b[0m\u001b[0msort_list\u001b[0m\u001b[1;33m)\u001b[0m\u001b[1;33m:\u001b[0m\u001b[1;33m\u001b[0m\u001b[1;33m\u001b[0m\u001b[0m\n\u001b[0;32m      5\u001b[0m         \u001b[0mprint\u001b[0m\u001b[1;33m(\u001b[0m\u001b[0mf\u001b[0m\u001b[1;33m,\u001b[0m\u001b[1;34m\" \"\u001b[0m\u001b[1;33m,\u001b[0m\u001b[0mp\u001b[0m\u001b[1;33m)\u001b[0m\u001b[1;33m\u001b[0m\u001b[1;33m\u001b[0m\u001b[0m\n",
      "\u001b[1;31mNameError\u001b[0m: name 'population' is not defined"
     ]
    }
   ],
   "source": [
    "fitness_values=[]\n",
    "zip_list=zip(fitness_values,population)\n",
    "sort_list=sorted(zip_list,reverse=True)\n",
    "for f,p in list(sort_list):\n",
    "        print(f,\" \",p)\n",
    "p=len(population)\n",
    "while(p>pop_size):\n",
    "    sort_list.pop()\n",
    "    p=p-1\n",
    "print(\"elitizm sonrasi\")\n",
    "for f,p in list(sort_list):\n",
    "    print(f,\" \",p)\n",
    "population=[]\n",
    "fitness_values=[]\n",
    "for f,p in list(sort_list):\n",
    "    population.append(p)\n",
    "    fitness_values.append(f)\n",
    "epok+=1\n",
    "print(\"Son populasyon\")\n",
    "for c, f in zip(population,fitness_values):\n",
    "    print(c, \" \",f )\n",
    "print(\"En iyi birey:\",population[0],\" fitness:\",fitness_values[0])"
   ]
  },
  {
   "cell_type": "code",
   "execution_count": 6,
   "id": "f0b1b760",
   "metadata": {},
   "outputs": [],
   "source": [
    "def population(pop_size,xMin,xMax):\n",
    "    return[individual(xMin,xMax) for x in range(pop_size)]\n",
    "\n",
    "def individual(xMin,xMax):\n",
    "    return[randomPoint(xMin,xMax)]\n",
    "\n",
    "def random(min,max):\n",
    "    num=random.random()*max+1\n",
    "    if num<min:\n",
    "        num+=min\n",
    "    elif num>max:\n",
    "        num=max\n",
    "    return num"
   ]
  },
  {
   "cell_type": "code",
   "execution_count": 7,
   "id": "4d41cc7e",
   "metadata": {},
   "outputs": [
    {
     "ename": "SyntaxError",
     "evalue": "invalid syntax (1270006411.py, line 1)",
     "output_type": "error",
     "traceback": [
      "\u001b[1;36m  File \u001b[1;32m\"C:\\Users\\beyza\\AppData\\Local\\Temp\\ipykernel_8864\\1270006411.py\"\u001b[1;36m, line \u001b[1;32m1\u001b[0m\n\u001b[1;33m    particle list\u001b[0m\n\u001b[1;37m             ^\u001b[0m\n\u001b[1;31mSyntaxError\u001b[0m\u001b[1;31m:\u001b[0m invalid syntax\n"
     ]
    }
   ],
   "source": [
    "particle list\n",
    "def particle(par_list, i, v):\n",
    "    new_par_list = []\n",
    "    if i == 0:\n",
    "        for a in range(0, len(par_list)):\n",
    "            new_par_list.append(format(rnd.random(), '.4f'))\n",
    "    else:\n",
    "        for a in range(0, len(par_list)):\n",
    "            x[a] = x[a-1] + v[i][a]\n",
    "            new_par_list.append(x[a])\n",
    "    \n",
    "    new_par_list = new_par_list.sort()\n",
    "    par_list.append(new_par_list)\n",
    "    \n",
    "    return par_list"
   ]
  },
  {
   "cell_type": "code",
   "execution_count": 8,
   "id": "6840d1b0",
   "metadata": {},
   "outputs": [
    {
     "ename": "NameError",
     "evalue": "name 'plt' is not defined",
     "output_type": "error",
     "traceback": [
      "\u001b[1;31m---------------------------------------------------------------------------\u001b[0m",
      "\u001b[1;31mNameError\u001b[0m                                 Traceback (most recent call last)",
      "\u001b[1;32m~\\AppData\\Local\\Temp\\ipykernel_8864\\2200554240.py\u001b[0m in \u001b[0;36m<module>\u001b[1;34m\u001b[0m\n\u001b[1;32m----> 1\u001b[1;33m \u001b[0mplt\u001b[0m\u001b[1;33m.\u001b[0m\u001b[0mfigure\u001b[0m\u001b[1;33m(\u001b[0m\u001b[1;33m)\u001b[0m\u001b[1;33m\u001b[0m\u001b[1;33m\u001b[0m\u001b[0m\n\u001b[0m\u001b[0;32m      2\u001b[0m \u001b[0mplt\u001b[0m\u001b[1;33m.\u001b[0m\u001b[0msuptitle\u001b[0m\u001b[1;33m(\u001b[0m\u001b[1;34m\"Evolution of states and costs of the simulated annealing\"\u001b[0m\u001b[1;33m)\u001b[0m\u001b[1;33m\u001b[0m\u001b[1;33m\u001b[0m\u001b[0m\n\u001b[0;32m      3\u001b[0m \u001b[0mplt\u001b[0m\u001b[1;33m.\u001b[0m\u001b[0msubplot\u001b[0m\u001b[1;33m(\u001b[0m\u001b[1;36m121\u001b[0m\u001b[1;33m)\u001b[0m\u001b[1;33m\u001b[0m\u001b[1;33m\u001b[0m\u001b[0m\n\u001b[0;32m      4\u001b[0m \u001b[0mplt\u001b[0m\u001b[1;33m.\u001b[0m\u001b[0mplot\u001b[0m\u001b[1;33m(\u001b[0m\u001b[0mpopulation\u001b[0m\u001b[1;33m,\u001b[0m \u001b[1;34m'g'\u001b[0m\u001b[1;33m)\u001b[0m\u001b[1;33m\u001b[0m\u001b[1;33m\u001b[0m\u001b[0m\n\u001b[0;32m      5\u001b[0m \u001b[0mplt\u001b[0m\u001b[1;33m.\u001b[0m\u001b[0mtitle\u001b[0m\u001b[1;33m(\u001b[0m\u001b[1;34m\"Maximum\"\u001b[0m\u001b[1;33m)\u001b[0m\u001b[1;33m\u001b[0m\u001b[1;33m\u001b[0m\u001b[0m\n",
      "\u001b[1;31mNameError\u001b[0m: name 'plt' is not defined"
     ]
    }
   ],
   "source": [
    "plt.figure()\n",
    "plt.suptitle(\"minimum ve maksimum değerlerinin grafiği\")\n",
    "plt.subplot(121)\n",
    "plt.plot(population, 'g')\n",
    "plt.title(\"Maksimum\")\n",
    "plt.subplot(122)\n",
    "plt.plot(fitness_values, 'y')\n",
    "plt.title(\"Minimum\")\n",
    "plt.show()"
   ]
  },
  {
   "cell_type": "code",
   "execution_count": null,
   "id": "0422a85e",
   "metadata": {},
   "outputs": [],
   "source": []
  },
  {
   "cell_type": "code",
   "execution_count": null,
   "id": "21db613c",
   "metadata": {},
   "outputs": [],
   "source": []
  }
 ],
 "metadata": {
  "kernelspec": {
   "display_name": "Python 3 (ipykernel)",
   "language": "python",
   "name": "python3"
  },
  "language_info": {
   "codemirror_mode": {
    "name": "ipython",
    "version": 3
   },
   "file_extension": ".py",
   "mimetype": "text/x-python",
   "name": "python",
   "nbconvert_exporter": "python",
   "pygments_lexer": "ipython3",
   "version": "3.9.13"
  }
 },
 "nbformat": 4,
 "nbformat_minor": 5
}
